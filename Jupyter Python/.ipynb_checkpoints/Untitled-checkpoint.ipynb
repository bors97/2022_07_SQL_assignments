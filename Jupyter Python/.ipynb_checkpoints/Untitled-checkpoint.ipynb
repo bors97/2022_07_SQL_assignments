{
 "cells": [
  {
   "cell_type": "markdown",
   "id": "b14dc33d",
   "metadata": {},
   "source": [
    "# 1st Problem: Longest Substring Without Repeating Characters"
   ]
  },
  {
   "cell_type": "code",
   "execution_count": 11,
   "id": "c67e6c90",
   "metadata": {},
   "outputs": [
    {
     "name": "stdout",
     "output_type": "stream",
     "text": [
      "Enter a string: bbbbbb\n",
      "1\n"
     ]
    }
   ],
   "source": [
    "string = input(\"Enter a string: \")\n",
    "max = 0\n",
    "for i in range(len(string)):\n",
    "    for j in range(i, len(string)):\n",
    "        if string[j] in string[i:j]:\n",
    "            break\n",
    "        substr = string[i:j+1]\n",
    "        if max < len(substr):\n",
    "            max = len(substr)\n",
    "            substr = substr\n",
    "\n",
    "        \n",
    "print(max)"
   ]
  },
  {
   "cell_type": "markdown",
   "id": "926399bf",
   "metadata": {},
   "source": [
    "# 2nd Problem: Generate Parentheses"
   ]
  },
  {
   "cell_type": "code",
   "execution_count": 3,
   "id": "9d7339a2",
   "metadata": {},
   "outputs": [
    {
     "name": "stdout",
     "output_type": "stream",
     "text": [
      "Enter the number of parentheses3\n",
      "['((()))', '(()())', '(())()', '()(())', '()()()']\n"
     ]
    }
   ],
   "source": [
    "n = input(\"Enter the number of parentheses\")\n",
    "\n",
    "def generatePar(n):\n",
    "    l = []\n",
    "    stack = []\n",
    "    \n",
    "    def backtrack(openN, closedN):\n",
    "        if openN == closedN == n:\n",
    "            l.append(\"\".join(stack))\n",
    "            return\n",
    "        if openN < n:\n",
    "            stack.append(\"(\")\n",
    "            backtrack(openN + 1, closedN)\n",
    "            stack.pop()\n",
    "        if closedN < openN:\n",
    "            stack.append(\")\")\n",
    "            backtrack(openN, closedN + 1)\n",
    "            stack.pop()\n",
    "            \n",
    "    backtrack(0, 0)\n",
    "    return l\n",
    "\n",
    "l = generatePar(3)\n",
    "print(l)"
   ]
  },
  {
   "cell_type": "markdown",
   "id": "78e33ba6",
   "metadata": {},
   "source": [
    "# 3rd Problem: Palindrome Partitioning"
   ]
  },
  {
   "cell_type": "code",
   "execution_count": null,
   "id": "58030f59",
   "metadata": {},
   "outputs": [],
   "source": []
  },
  {
   "cell_type": "code",
   "execution_count": 8,
   "id": "00692555",
   "metadata": {},
   "outputs": [
    {
     "name": "stdout",
     "output_type": "stream",
     "text": [
      "Enter a string: aaa\n",
      "[['a', 'a', 'a'], ['a', 'aa'], ['aa', 'a'], ['aaa']]\n"
     ]
    }
   ],
   "source": [
    "def isPalindrome(s):\n",
    "    for i in range(0, len(s)):\n",
    "        if s[i] != s[(len(s) - 1 - i)]:\n",
    "            return False\n",
    "    return True\n",
    "\n",
    "def dfs(result, s, start, cur):\n",
    "    if start >= len(s):\n",
    "        result.append(cur.copy())\n",
    "    for end in range(start, len(s)):\n",
    "        if isPalindrome(s[start:end+1]):\n",
    "            cur.append(s[start:end+1])\n",
    "            dfs(result, s, end+1, cur)\n",
    "            cur.pop()\n",
    "\n",
    "\n",
    "def partition(s):\n",
    "    result = []\n",
    "    cur = []\n",
    "\n",
    "    dfs(result, s, 0, cur)\n",
    "    return result\n",
    "\n",
    "\n",
    "def plusone(n):\n",
    "    n= n+1\n",
    "    \n",
    "            \n",
    "# [[\"a\",\"a\",\"a\"], [\"a\", \"aa\"], [\"aa\", \"a\"], [\"aaa\"]]\n",
    "\n",
    "s = input(\"Enter a string: \")\n",
    "\n",
    "l = partition(s)\n",
    "print(l)"
   ]
  },
  {
   "cell_type": "code",
   "execution_count": null,
   "id": "34cccc37",
   "metadata": {},
   "outputs": [],
   "source": []
  },
  {
   "cell_type": "code",
   "execution_count": null,
   "id": "686ddaea",
   "metadata": {},
   "outputs": [],
   "source": []
  },
  {
   "cell_type": "code",
   "execution_count": null,
   "id": "776ef372",
   "metadata": {},
   "outputs": [],
   "source": []
  }
 ],
 "metadata": {
  "kernelspec": {
   "display_name": "Python 3 (ipykernel)",
   "language": "python",
   "name": "python3"
  },
  "language_info": {
   "codemirror_mode": {
    "name": "ipython",
    "version": 3
   },
   "file_extension": ".py",
   "mimetype": "text/x-python",
   "name": "python",
   "nbconvert_exporter": "python",
   "pygments_lexer": "ipython3",
   "version": "3.10.4"
  }
 },
 "nbformat": 4,
 "nbformat_minor": 5
}
